{
 "cells": [
  {
   "cell_type": "markdown",
   "id": "c5b1d5fd",
   "metadata": {},
   "source": [
    "the goal of this repo is to have an assembly of tools to get the price data from the free external provider gridstatus.io and fromat it in a standardized fasion and generate additional features, statistics and models.\n",
    "currently only have very limited set of basic features extracted from the data. The procss to use and run the code involves adding a free API key to the environment\n",
    "\n",
    "```\n",
    "exporrt GRIDSTATUS_API_KEY=***the value goes here\"\n",
    "```\n",
    "\n",
    "the key value could be obtained from gridstatus website by creating a free account.\n",
    "\n",
    "if the API key is not avaiable, the code can still be executed by providing some cache files. the code is setup to store the queries results locally so as to minimize reppeating same requests to the API."
   ]
  },
  {
   "cell_type": "markdown",
   "id": "65bfc8f9",
   "metadata": {},
   "source": [
    "once the service is ready to be used, by adding data or API key, it can be used like this:"
   ]
  },
  {
   "cell_type": "code",
   "execution_count": null,
   "id": "65c97d15",
   "metadata": {
    "vscode": {
     "languageId": "plaintext"
    }
   },
   "outputs": [],
   "source": [
    "from datetime import datetime\n",
    "from zoneinfo import ZoneInfo\n",
    "\n",
    "from price_analyzer.data_client.service.gridstatus.price_service import PriceService\n",
    "from price_analyzer.data_client.api.gridstatus_price import GridStatusPriceClient   \n",
    "from price_analyzer.dtos.basic_types import MarketType, PriceType, ISOType\n",
    "from price_analyzer.tasks.get_price_stats import  get_price_stats\n",
    "\n",
    "UTC = ZoneInfo(\"UTC\")\n",
    "\n",
    "price_service = PriceService(price_data_client=GridStatusPriceClient())\n",
    "price_service.initialize_service_iso(ISOType.ERCOT)\n",
    "\n",
    "daily_stats, daily_stats_extended = get_price_stats(\n",
    "    price_service=price_service,\n",
    "    market_type=MarketType.DAM,\n",
    "    price_type=PriceType.SPP,\n",
    "    location=PriceLocation(name=\"HB_HOUSTON\", location_type=PriceLocationType.HUB),\n",
    "    start_time=datetime(2024, 10, 1, 6, tzinfo=UTC),\n",
    "    end_time=datetime(2024, 10, 30, 5, tzinfo=UTC),\n",
    ")"
   ]
  },
  {
   "cell_type": "markdown",
   "id": "c0dacc5e",
   "metadata": {},
   "source": [
    "please check main.py for more examples."
   ]
  }
 ],
 "metadata": {
  "language_info": {
   "name": "python"
  }
 },
 "nbformat": 4,
 "nbformat_minor": 5
}
